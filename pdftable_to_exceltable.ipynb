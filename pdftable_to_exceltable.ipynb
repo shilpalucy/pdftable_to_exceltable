{
 "cells": [
  {
   "cell_type": "code",
   "execution_count": 2,
   "id": "2f13a7ce",
   "metadata": {},
   "outputs": [],
   "source": [
    "# Import the required Module\n",
    "import tabula\n",
    "# Read a PDF File\n",
    "df = tabula.read_pdf(\"boys-chart.pdf\", pages='all')[0]\n",
    "# convert PDF into CSV\n",
    "tabula.convert_into(\"boys-chart.pdf\", \"boys-chart.csv\", output_format=\"csv\", pages='all')\n"
   ]
  },
  {
   "cell_type": "code",
   "execution_count": null,
   "id": "4600a70e",
   "metadata": {},
   "outputs": [],
   "source": []
  }
 ],
 "metadata": {
  "kernelspec": {
   "display_name": "Python 3 (ipykernel)",
   "language": "python",
   "name": "python3"
  },
  "language_info": {
   "codemirror_mode": {
    "name": "ipython",
    "version": 3
   },
   "file_extension": ".py",
   "mimetype": "text/x-python",
   "name": "python",
   "nbconvert_exporter": "python",
   "pygments_lexer": "ipython3",
   "version": "3.9.12"
  }
 },
 "nbformat": 4,
 "nbformat_minor": 5
}
